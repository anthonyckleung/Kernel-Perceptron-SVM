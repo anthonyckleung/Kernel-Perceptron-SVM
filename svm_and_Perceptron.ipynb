{
 "cells": [
  {
   "cell_type": "markdown",
   "metadata": {
    "deletable": true,
    "editable": true
   },
   "source": [
    "# Experiments with kernel machines"
   ]
  },
  {
   "cell_type": "markdown",
   "metadata": {
    "deletable": true,
    "editable": true
   },
   "source": [
    "In this notebook we use various two-dimensional data set to compare and contrast the kernel perceptron and supported vector machine methods for constructing the decision boundaries. The latter is based on the implementation from the Scikit-learn library."
   ]
  },
  {
   "cell_type": "markdown",
   "metadata": {
    "deletable": true,
    "editable": true
   },
   "source": [
    "## Load libraries"
   ]
  },
  {
   "cell_type": "code",
   "execution_count": 1,
   "metadata": {
    "collapsed": true,
    "deletable": true,
    "editable": true
   },
   "outputs": [],
   "source": [
    "%matplotlib inline\n",
    "import numpy as np\n",
    "import matplotlib\n",
    "import matplotlib.pyplot as plt\n",
    "from sklearn.svm import SVC\n",
    "matplotlib.rc('xtick', labelsize=14) \n",
    "matplotlib.rc('ytick', labelsize=14)"
   ]
  },
  {
   "cell_type": "markdown",
   "metadata": {
    "deletable": true,
    "editable": true
   },
   "source": [
    "## The kernel Perceptron"
   ]
  },
  {
   "cell_type": "markdown",
   "metadata": {
    "deletable": true,
    "editable": true
   },
   "source": [
    "The kernel Perceptron algorithm built in this notebook allows for the quadratic and RBF kernels. The main method is the `learn_and_display_Perceptron(datafile, kernel_type, s_value)` while the others are auxiliary functions."
   ]
  },
  {
   "cell_type": "code",
   "execution_count": 42,
   "metadata": {
    "collapsed": false,
    "deletable": true,
    "editable": true
   },
   "outputs": [],
   "source": [
    "### \n",
    "### Auxiliary functions\n",
    "###\n",
    "\n",
    "\n",
    "def compute_WdotPhi_quad(alpha, x, y, x_i):\n",
    "    ## Computes the dot product of W.Phi for the quadratic kernel function\n",
    "    n, d = x.shape\n",
    "    \n",
    "    wdotphi = sum(alpha*y*(1+np.dot(x[:,:],x_i))*(1+np.dot(x[:,:],x_i)))\n",
    "\n",
    "    return wdotphi\n",
    "\n",
    "def compute_WdotPhi_rbf(alpha, x, y, x_i, s_value):\n",
    "    ## Computes the dot product of W.Phi for the rbf kernel\n",
    "    n, d = x.shape\n",
    "    #print(n, d)\n",
    "    wdotphi = 0\n",
    "    xvalues = np.array([np.linalg.norm(x[j]-x_i) for j in range(len(x))])\n",
    "    Exp = np.array([np.exp(-xvalues[j]**2/s_value**2) for j in range(len(xvalues))])\n",
    "    wdotphi = sum(alpha*y*Exp)\n",
    "    return wdotphi\n",
    "\n",
    "def evaluate_kernel_classifier(WdotPhi,b):\n",
    "    if (WdotPhi + b) > 0:\n",
    "        return 1\n",
    "    if (WdotPhi + b) <= 0:\n",
    "        return -1\n",
    "    return 0\n",
    "\n",
    "def kernel_perceptron_quadratic(x, y, n_iters=100):\n",
    "    # Performs perceptron algorithm in dual form for the quadratic kernel\n",
    "    n, d = x.shape\n",
    "    b = 0;\n",
    "    alpha = np.zeros(len(y))\n",
    "    done = False\n",
    "    converged = True\n",
    "    iters=0\n",
    "    while not(done):\n",
    "        done = True;\n",
    "        I = np.random.permutation(n)\n",
    "        for i in range(n):\n",
    "            j = I[i]\n",
    "            xvalues = np.array([(1+x[i].dot(x[j]))*(1+x[i].dot(x[j])) for i in range(len(x))])\n",
    "            WdotPhi = sum(alpha*y*xvalues)\n",
    "            if (evaluate_kernel_classifier(WdotPhi, b) != y[j]):\n",
    "                alpha[j] = alpha[j] + 1\n",
    "                b = b + y[j]\n",
    "                done = False\n",
    "        iters = iters + 1\n",
    "        if iters > n_iters:\n",
    "            done = True\n",
    "            converged = False\n",
    "    \n",
    "    return alpha, b, converged\n",
    "\n",
    "def kernel_perceptron_rbf(x, y, s_value, n_iters=100):\n",
    "    # Performs perceptron algorithm in dual form for the rbf kernel\n",
    "    ## TODO: optimize method\n",
    "    n, d = x.shape\n",
    "    b = 0;\n",
    "    alpha = np.zeros(len(y))\n",
    "    done = False\n",
    "    converged = True\n",
    "    iters=0\n",
    "    while not(done):\n",
    "        done = True;\n",
    "        I = np.random.permutation(n)\n",
    "        for i in range(n):\n",
    "            j = I[i]\n",
    "            WdotPhi = compute_WdotPhi_rbf(alpha, x, y, x[j,:], s_value)\n",
    "            if (evaluate_kernel_classifier(WdotPhi, b) != y[j]):\n",
    "                alpha[j] = alpha[j] + 1\n",
    "                b = b + y[j]\n",
    "                done = False\n",
    "        iters = iters + 1\n",
    "        if iters > n_iters:\n",
    "            done = True\n",
    "            converged = False\n",
    "    \n",
    "    return alpha, b, converged\n",
    "\n",
    "###--------------------------\n",
    "### MAIN PERCEPTRON METHOD\n",
    "###--------------------------\n",
    "\n",
    "def learn_and_display_Perceptron(datafile, kernel_type, s_value=5.93):\n",
    "    data = np.loadtxt(datafile)\n",
    "    n,d = data.shape\n",
    "    # Create training set x and labels y\n",
    "    x = data[:,0:2]\n",
    "    y = data[:,2]\n",
    "    # Now train a support vector machine and identify the support vectors\n",
    "    if kernel_type == 'quadratic':\n",
    "        alpha, b, converged = kernel_perceptron_quadratic(x, y)\n",
    "    if kernel_type == 'rbf':\n",
    "        alpha, b, converged = kernel_perceptron_rbf(x, y, s_value)\n",
    "        \n",
    "    # Determine the x1- and x2- limits of the plot\n",
    "    x1min = min(x[:,0]) - 1\n",
    "    x1max = max(x[:,0]) + 1\n",
    "    x2min = min(x[:,1]) - 1\n",
    "    x2max = max(x[:,1]) + 1\n",
    "    plt.xlim(x1min,x1max)\n",
    "    plt.ylim(x2min,x2max)\n",
    "    # Plot the data points\n",
    "    plt.plot(x[(y==1),0], x[(y==1),1], 'rD')\n",
    "    plt.plot(x[(y==-1),0], x[(y==-1),1], 'k^')\n",
    "    # Construct a grid of points at which to evaluate the classifier\n",
    "    if converged:\n",
    "        grid_spacing = 0.05\n",
    "        xx1, xx2 = np.meshgrid(np.arange(x1min, x1max, grid_spacing), np.arange(x2min, x2max, grid_spacing))\n",
    "        grid = np.c_[xx1.ravel(), xx2.ravel()]\n",
    "        #print(grid[0], x[1,:])\n",
    "        if kernel_type == 'quadratic':\n",
    "            WdotPhiArray = np.array([compute_WdotPhi_quad(alpha, x, y, pt) for pt in grid])\n",
    "        if kernel_type == 'rbf':\n",
    "            WdotPhiArray = np.array([compute_WdotPhi_rbf(alpha, x, y, pt, s_value) for pt in grid])\n",
    "        Z = np.array([evaluate_kernel_classifier(WdotPhi,b) for WdotPhi in WdotPhiArray])\n",
    "        # Show the classifier's boundary using a color plot\n",
    "        Z = Z.reshape(xx1.shape)\n",
    "        plt.pcolormesh(xx1, xx2, Z, cmap=plt.cm.RdBu, vmin=-2, vmax=2)\n",
    "    plt.show()                               "
   ]
  },
  {
   "cell_type": "code",
   "execution_count": 43,
   "metadata": {
    "collapsed": false
   },
   "outputs": [
    {
     "data": {
      "image/png": "[encoded data removed]",
      "text/plain": [
       "<matplotlib.figure.Figure at 0x175d4b575c0>"
      ]
     },
     "metadata": {},
     "output_type": "display_data"
    }
   ],
   "source": [
    "learn_and_display_Perceptron('data2.txt', kernel_type='quadratic')"
   ]
  },
  {
   "cell_type": "code",
   "execution_count": 44,
   "metadata": {
    "collapsed": false,
    "deletable": true,
    "editable": true
   },
   "outputs": [
    {
     "data": {
      "image/png": "[encoded data removed]",
      "text/plain": [
       "<matplotlib.figure.Figure at 0x175d2956cf8>"
      ]
     },
     "metadata": {},
     "output_type": "display_data"
    }
   ],
   "source": [
    "learn_and_display_Perceptron('data2.txt', kernel_type='rbf')"
   ]
  },
  {
   "cell_type": "markdown",
   "metadata": {},
   "source": [
    "## The kernel SVM"
   ]
  },
  {
   "cell_type": "code",
   "execution_count": 26,
   "metadata": {
    "collapsed": true,
    "deletable": true,
    "editable": true
   },
   "outputs": [],
   "source": [
    "def learn_and_display_SVM(datafile, kernel_type='rbf', C_value=1.0, s_value=1.0):\n",
    "    data = np.loadtxt(datafile)\n",
    "    n,d = data.shape\n",
    "    # Create training set x and labels y\n",
    "    x = data[:,0:2]\n",
    "    y = data[:,2]\n",
    "    # Now train a support vector machine and identify the support vectors\n",
    "    if kernel_type == 'rbf':\n",
    "        clf = SVC(kernel='rbf', C=C_value, gamma=1.0/(s_value*s_value))\n",
    "    if kernel_type == 'quadratic':\n",
    "        clf = SVC(kernel='poly', degree=2, C=C_value, coef0=1.0)\n",
    "    clf.fit(x,y)\n",
    "    sv = np.zeros(n,dtype=bool)\n",
    "    sv[clf.support_] = True\n",
    "    notsv = np.logical_not(sv)\n",
    "    # Determine the x1- and x2- limits of the plot\n",
    "    x1min = min(x[:,0]) - 1\n",
    "    x1max = max(x[:,0]) + 1\n",
    "    x2min = min(x[:,1]) - 1\n",
    "    x2max = max(x[:,1]) + 1\n",
    "    plt.xlim(x1min,x1max)\n",
    "    plt.ylim(x2min,x2max)\n",
    "    # Plot the data points, enlarging those that are support vectors\n",
    "    plt.plot(x[(y==1)*notsv,0], x[(y==1)*notsv,1], 'rD')\n",
    "    plt.plot(x[(y==1)*sv,0], x[(y==1)*sv,1], 'rD', markersize=10)\n",
    "    plt.plot(x[(y==-1)*notsv,0], x[(y==-1)*notsv,1], 'k^')\n",
    "    plt.plot(x[(y==-1)*sv,0], x[(y==-1)*sv,1], 'k^', markersize=10)\n",
    "    # Construct a grid of points and evaluate classifier at each grid points\n",
    "    grid_spacing = 0.05\n",
    "    xx1, xx2 = np.meshgrid(np.arange(x1min, x1max, grid_spacing), np.arange(x2min, x2max, grid_spacing))\n",
    "    grid = np.c_[xx1.ravel(), xx2.ravel()]\n",
    "    Z = clf.decision_function(grid)\n",
    "    # Quantize the values to -1, -0.5, 0, 0.5, 1 for display purposes\n",
    "    for i in range(len(Z)):\n",
    "        Z[i] = min(Z[i],1.0)\n",
    "        Z[i] = max(Z[i],-1.0)\n",
    "        if (Z[i] > 0.0) and (Z[i] < 1.0):\n",
    "            Z[i] = 0.5\n",
    "        if (Z[i] < 0.0) and (Z[i] > -1.0):\n",
    "            Z[i] = -0.5\n",
    "    # Show boundary and margin using a color plot\n",
    "    Z = Z.reshape(xx1.shape)\n",
    "    plt.pcolormesh(xx1, xx2, Z, cmap=plt.cm.RdBu, vmin=-2, vmax=2)\n",
    "    plt.show()"
   ]
  },
  {
   "cell_type": "code",
   "execution_count": 27,
   "metadata": {
    "collapsed": false,
    "deletable": true,
    "editable": true
   },
   "outputs": [
    {
     "data": {
      "image/png": "[encoded data removed]",
      "text/plain": [
       "<matplotlib.figure.Figure at 0x175d2c827b8>"
      ]
     },
     "metadata": {},
     "output_type": "display_data"
    }
   ],
   "source": [
    "learn_and_display_SVM('data2.txt', 'quadratic', 1.0)"
   ]
  },
  {
   "cell_type": "code",
   "execution_count": 28,
   "metadata": {
    "collapsed": false,
    "deletable": true,
    "editable": true
   },
   "outputs": [
    {
     "data": {
      "image/png": "[encoded data removed]",
      "text/plain": [
       "<matplotlib.figure.Figure at 0x175d2956dd8>"
      ]
     },
     "metadata": {},
     "output_type": "display_data"
    }
   ],
   "source": [
    "learn_and_display_SVM('data2.txt', 'rbf', 10.0, 10.0)"
   ]
  },
  {
   "cell_type": "code",
   "execution_count": null,
   "metadata": {
    "collapsed": true
   },
   "outputs": [],
   "source": []
  }
 ],
 "metadata": {
  "kernelspec": {
   "display_name": "Python 3",
   "language": "python",
   "name": "python3"
  },
  "language_info": {
   "codemirror_mode": {
    "name": "ipython",
    "version": 3
   },
   "file_extension": ".py",
   "mimetype": "text/x-python",
   "name": "python",
   "nbconvert_exporter": "python",
   "pygments_lexer": "ipython3",
   "version": "3.5.2"
  },
  "toc": {
   "colors": {
    "hover_highlight": "#DAA520",
    "navigate_num": "#000000",
    "navigate_text": "#333333",
    "running_highlight": "#FF0000",
    "selected_highlight": "#FFD700",
    "sidebar_border": "#EEEEEE",
    "wrapper_background": "#FFFFFF"
   },
   "moveMenuLeft": true,
   "nav_menu": {
    "height": "117px",
    "width": "252px"
   },
   "navigate_menu": true,
   "number_sections": false,
   "sideBar": true,
   "threshold": 4,
   "toc_cell": false,
   "toc_section_display": "block",
   "toc_window_display": false,
   "widenNotebook": false
  }
 },
 "nbformat": 4,
 "nbformat_minor": 1
}
